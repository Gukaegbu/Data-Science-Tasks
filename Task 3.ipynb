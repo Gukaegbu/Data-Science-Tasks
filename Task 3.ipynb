{
 "cells": [
  {
   "cell_type": "code",
   "execution_count": 1,
   "metadata": {},
   "outputs": [
    {
     "name": "stdout",
     "output_type": "stream",
     "text": [
      "What is your favorite starter? Spring rolls\n",
      "What is your favorite main course? Spagetti Cabonara\n",
      "What is your favorite dessert? Chocolate Molten cake\n",
      "What is your favorite drink Pina colada\n",
      "Your favorite meal is Spagetti Cabonara with a glass of Pina colada.\n"
     ]
    }
   ],
   "source": [
    "myfavoritestarter = input(\"What is your favorite starter?\")\n",
    "myfavoritemaincourse = input(\"What is your favorite main course?\")\n",
    "myfavoritedessert = input(\"What is your favorite dessert?\")\n",
    "myfavoritedrink = input(\"What is your favorite drink\")\n",
    "print(\"Your favorite meal is\" + myfavoritemaincourse +  \" with a glass of\" + myfavoritedrink + \".\")"
   ]
  },
  {
   "cell_type": "code",
   "execution_count": 7,
   "metadata": {},
   "outputs": [],
   "source": [
    "i = 2000\n",
    "while i < 1000:\n",
    "    print(\"The value of i is:\",i)\n",
    "i += 1"
   ]
  },
  {
   "cell_type": "code",
   "execution_count": null,
   "metadata": {},
   "outputs": [],
   "source": [
    "i = 2000\n",
    "\n",
    "while i > 1000:\n",
    "    i -= 1800\n",
    "    print(\"The value of i is:\", i)\n",
    "    i >= 1000"
   ]
  },
  {
   "cell_type": "code",
   "execution_count": null,
   "metadata": {},
   "outputs": [],
   "source": []
  },
  {
   "cell_type": "code",
   "execution_count": null,
   "metadata": {},
   "outputs": [],
   "source": []
  }
 ],
 "metadata": {
  "kernelspec": {
   "display_name": "Python 3",
   "language": "python",
   "name": "python3"
  },
  "language_info": {
   "codemirror_mode": {
    "name": "ipython",
    "version": 3
   },
   "file_extension": ".py",
   "mimetype": "text/x-python",
   "name": "python",
   "nbconvert_exporter": "python",
   "pygments_lexer": "ipython3",
   "version": "3.8.5"
  }
 },
 "nbformat": 4,
 "nbformat_minor": 4
}
