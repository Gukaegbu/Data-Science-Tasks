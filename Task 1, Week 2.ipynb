{
 "cells": [
  {
   "cell_type": "code",
   "execution_count": 30,
   "metadata": {},
   "outputs": [
    {
     "name": "stdout",
     "output_type": "stream",
     "text": [
      "Please enter Order: Chicken Burger\n",
      "Proceed to payment?Yes\n",
      "Please enter payment details\n"
     ]
    }
   ],
   "source": [
    "Order = input(\"Please enter Order:\")\n",
    "proceed_to_payment = input(\"Proceed to payment?\")\n",
    "if proceed_to_payment == \"Yes\":\n",
    "    print(\"Please enter payment details\")\n",
    "else:\n",
    "    print(\"Thank you, hope to see you soon\")"
   ]
  },
  {
   "cell_type": "code",
   "execution_count": null,
   "metadata": {},
   "outputs": [],
   "source": []
  },
  {
   "cell_type": "code",
   "execution_count": null,
   "metadata": {},
   "outputs": [],
   "source": []
  }
 ],
 "metadata": {
  "kernelspec": {
   "display_name": "Python 3",
   "language": "python",
   "name": "python3"
  },
  "language_info": {
   "codemirror_mode": {
    "name": "ipython",
    "version": 3
   },
   "file_extension": ".py",
   "mimetype": "text/x-python",
   "name": "python",
   "nbconvert_exporter": "python",
   "pygments_lexer": "ipython3",
   "version": "3.8.5"
  }
 },
 "nbformat": 4,
 "nbformat_minor": 4
}
