{
 "cells": [
  {
   "cell_type": "code",
   "execution_count": 1,
   "metadata": {},
   "outputs": [
    {
     "name": "stdout",
     "output_type": "stream",
     "text": [
      "Choose your favorite number between 1 and 100 10\n",
      "82 dogs have escaped from a nearby kennels. Police say they have no leads\n"
     ]
    }
   ],
   "source": [
    "number = (1, 100)\n",
    "myfavoritenumber = int(input(\"Choose your favorite number between 1 and 100\"))\n",
    "if number == 3:\n",
    "    print(\"A peanut qalked into a police station yesterday to claim he had been a-salted\")\n",
    "elif number == 5:\n",
    "    print(\"I used to like tractors, but I don't anymore. I'm an ex-tractor fan\")\n",
    "else:\n",
    "    print(\"82 dogs have escaped from a nearby kennels. Police say they have no leads\")"
   ]
  },
  {
   "cell_type": "code",
   "execution_count": null,
   "metadata": {},
   "outputs": [],
   "source": []
  }
 ],
 "metadata": {
  "kernelspec": {
   "display_name": "Python 3",
   "language": "python",
   "name": "python3"
  },
  "language_info": {
   "codemirror_mode": {
    "name": "ipython",
    "version": 3
   },
   "file_extension": ".py",
   "mimetype": "text/x-python",
   "name": "python",
   "nbconvert_exporter": "python",
   "pygments_lexer": "ipython3",
   "version": "3.8.5"
  }
 },
 "nbformat": 4,
 "nbformat_minor": 4
}
