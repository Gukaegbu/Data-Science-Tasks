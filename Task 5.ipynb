{
 "cells": [
  {
   "cell_type": "code",
   "execution_count": 58,
   "metadata": {},
   "outputs": [
    {
     "name": "stdout",
     "output_type": "stream",
     "text": [
      "pick first number 25\n",
      "pick second number 5\n",
      "pick A  if you want to add A\n",
      "pick B  if you want to subtract\n",
      "pick C  if you want to divide\n",
      "pick D  if you want to multiply\n",
      "pick E  if you want to the power of\n",
      "pick F  if you want to square\n",
      "20\n"
     ]
    }
   ],
   "source": [
    "pick1 == \"first number\"\n",
    "pick2 == \"second number\"\n",
    "pick1 = int(input(\"pick first number\"))\n",
    "pick2 = int(input(\"pick second number\"))\n",
    "pick = input(\"pick\" \" A \" \" if you want to add\")\n",
    "pick = input(\"pick\" \" B \" \" if you want to subtract\")\n",
    "pick = input(\"pick\" \" C \" \" if you want to divide\")\n",
    "pick = input(\"pick\" \" D \" \" if you want to multiply\")\n",
    "pick = input(\"pick\" \" E \" \" if you want to the power of\")\n",
    "pick = input(\"pick\" \" F \" \" if you want to square\")\n",
    "A = pick1 + pick2\n",
    "B = pick1 - pick2\n",
    "C = pick1 / pick2\n",
    "D = pick1 * pick2\n",
    "E = pick1**pick2\n",
    "F = pick1**pick2 \n",
    "if A == \"pick1\" + \"pick2\":\n",
    "    print(A)\n",
    "elif B:\n",
    "    print(B)\n",
    "elif c:\n",
    "    print(C)\n",
    "elif D:\n",
    "    print(D)\n",
    "elif E:\n",
    "    print(E)\n",
    "else:\n",
    "    print(F)"
   ]
  },
  {
   "cell_type": "code",
   "execution_count": null,
   "metadata": {},
   "outputs": [],
   "source": []
  },
  {
   "cell_type": "code",
   "execution_count": null,
   "metadata": {},
   "outputs": [],
   "source": []
  }
 ],
 "metadata": {
  "kernelspec": {
   "display_name": "Python 3",
   "language": "python",
   "name": "python3"
  },
  "language_info": {
   "codemirror_mode": {
    "name": "ipython",
    "version": 3
   },
   "file_extension": ".py",
   "mimetype": "text/x-python",
   "name": "python",
   "nbconvert_exporter": "python",
   "pygments_lexer": "ipython3",
   "version": "3.8.5"
  }
 },
 "nbformat": 4,
 "nbformat_minor": 4
}
